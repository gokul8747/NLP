{
 "cells": [
  {
   "attachments": {},
   "cell_type": "markdown",
   "metadata": {},
   "source": [
    "## NLP Preprocessing"
   ]
  },
  {
   "attachments": {},
   "cell_type": "markdown",
   "metadata": {},
   "source": [
    "Importing NLTK library"
   ]
  },
  {
   "cell_type": "code",
   "execution_count": 5,
   "metadata": {},
   "outputs": [],
   "source": [
    "import nltk"
   ]
  },
  {
   "attachments": {},
   "cell_type": "markdown",
   "metadata": {},
   "source": [
    "Sample Corpus"
   ]
  },
  {
   "cell_type": "code",
   "execution_count": 10,
   "metadata": {},
   "outputs": [],
   "source": [
    "corpus = \"\"\"The primary thing when you take a sword in your hands is your intention to cut the enemy,whatever the means. Whenever you parry, hit, spring, strike or touch the enemy's cutting sword,you must cut the enemy in the same movement. It is essential to attain this. If you think only of hitting, springing, striking or touching the enemy, you will not be able actually to cut him.\"\"\""
   ]
  },
  {
   "attachments": {},
   "cell_type": "markdown",
   "metadata": {},
   "source": [
    "Word Tokenization"
   ]
  },
  {
   "cell_type": "code",
   "execution_count": 13,
   "metadata": {},
   "outputs": [
    {
     "name": "stdout",
     "output_type": "stream",
     "text": [
      "['The', 'primary', 'thing', 'when', 'you', 'take', 'a', 'sword', 'in', 'your', 'hands', 'is', 'your', 'intention', 'to', 'cut', 'the', 'enemy', ',', 'whatever', 'the', 'means', '.', 'Whenever', 'you', 'parry', ',', 'hit', ',', 'spring', ',', 'strike', 'or', 'touch', 'the', 'enemy', \"'s\", 'cutting', 'sword', ',', 'you', 'must', 'cut', 'the', 'enemy', 'in', 'the', 'same', 'movement', '.', 'It', 'is', 'essential', 'to', 'attain', 'this', '.', 'If', 'you', 'think', 'only', 'of', 'hitting', ',', 'springing', ',', 'striking', 'or', 'touching', 'the', 'enemy', ',', 'you', 'will', 'not', 'be', 'able', 'actually', 'to', 'cut', 'him', '.']\n"
     ]
    }
   ],
   "source": [
    "words = nltk.tokenize.word_tokenize(corpus)\n",
    "print(words)"
   ]
  },
  {
   "attachments": {},
   "cell_type": "markdown",
   "metadata": {},
   "source": [
    "Sentence Tokenization"
   ]
  },
  {
   "cell_type": "code",
   "execution_count": 12,
   "metadata": {},
   "outputs": [
    {
     "name": "stdout",
     "output_type": "stream",
     "text": [
      "['The primary thing when you take a sword in your hands is your intention to cut the enemy,whatever the means.', \"Whenever you parry, hit, spring, strike or touch the enemy's cutting sword,you must cut the enemy in the same movement.\", 'It is essential to attain this.', 'If you think only of hitting, springing, striking or touching the enemy, you will not be able actually to cut him.']\n"
     ]
    }
   ],
   "source": [
    "sentences = nltk.tokenize.sent_tokenize(corpus)\n",
    "print(sentences)"
   ]
  },
  {
   "cell_type": "code",
   "execution_count": 18,
   "metadata": {},
   "outputs": [
    {
     "name": "stdout",
     "output_type": "stream",
     "text": [
      "['The primary thing when you take a sword in your hands is your intention to cut the enemy,whatever the means', \" Whenever you parry, hit, spring, strike or touch the enemy's cutting sword,you must cut the enemy in the same movement\", ' It is essential to attain this', ' If you think only of hitting, springing, striking or touching the enemy, you will not be able actually to cut him', '']\n"
     ]
    }
   ],
   "source": [
    "sentences2 = corpus.split(\".\")\n",
    "print(sentences2)"
   ]
  }
 ],
 "metadata": {
  "kernelspec": {
   "display_name": "Python 3",
   "language": "python",
   "name": "python3"
  },
  "language_info": {
   "codemirror_mode": {
    "name": "ipython",
    "version": 3
   },
   "file_extension": ".py",
   "mimetype": "text/x-python",
   "name": "python",
   "nbconvert_exporter": "python",
   "pygments_lexer": "ipython3",
   "version": "3.9.13"
  },
  "orig_nbformat": 4,
  "vscode": {
   "interpreter": {
    "hash": "d303b0bb6c736ca253ba91959a25d5584d355e4a81ded23c201ada857346ece7"
   }
  }
 },
 "nbformat": 4,
 "nbformat_minor": 2
}
