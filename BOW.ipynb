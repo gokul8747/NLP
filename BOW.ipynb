{
  "nbformat": 4,
  "nbformat_minor": 0,
  "metadata": {
    "colab": {
      "provenance": [],
      "authorship_tag": "ABX9TyN7x5aOa+zoGBgyqH5ah4qe",
      "include_colab_link": true
    },
    "kernelspec": {
      "name": "python3",
      "display_name": "Python 3"
    },
    "language_info": {
      "name": "python"
    }
  },
  "cells": [
    {
      "cell_type": "markdown",
      "metadata": {
        "id": "view-in-github",
        "colab_type": "text"
      },
      "source": [
        "<a href=\"https://colab.research.google.com/github/gokul8747/NLP/blob/main/BOW.ipynb\" target=\"_parent\"><img src=\"https://colab.research.google.com/assets/colab-badge.svg\" alt=\"Open In Colab\"/></a>"
      ]
    },
    {
      "cell_type": "markdown",
      "source": [
        "# Bag Of Words"
      ],
      "metadata": {
        "id": "qw6fBPLxCbD8"
      }
    },
    {
      "cell_type": "code",
      "execution_count": 1,
      "metadata": {
        "colab": {
          "base_uri": "https://localhost:8080/"
        },
        "id": "NpIHaixrB_bg",
        "outputId": "3bec4bce-9ef1-476f-ade4-531b91bff019"
      },
      "outputs": [
        {
          "output_type": "stream",
          "name": "stderr",
          "text": [
            "[nltk_data] Downloading package punkt to /root/nltk_data...\n",
            "[nltk_data]   Unzipping tokenizers/punkt.zip.\n",
            "[nltk_data] Downloading package wordnet to /root/nltk_data...\n",
            "[nltk_data] Downloading package omw-1.4 to /root/nltk_data...\n",
            "[nltk_data] Downloading package stopwords to /root/nltk_data...\n",
            "[nltk_data]   Unzipping corpora/stopwords.zip.\n"
          ]
        },
        {
          "output_type": "execute_result",
          "data": {
            "text/plain": [
              "True"
            ]
          },
          "metadata": {},
          "execution_count": 1
        }
      ],
      "source": [
        "from nltk.tokenize import sent_tokenize\n",
        "from nltk.stem import WordNetLemmatizer\n",
        "import string\n",
        "import nltk\n",
        "import re\n",
        "from sklearn.feature_extraction.text import CountVectorizer\n",
        "from nltk.corpus import stopwords\n",
        "nltk.download('punkt')\n",
        "nltk.download('wordnet')\n",
        "nltk.download('omw-1.4')\n",
        "nltk.download(\"stopwords\")"
      ]
    },
    {
      "cell_type": "markdown",
      "source": [
        "**Sample corpus**"
      ],
      "metadata": {
        "id": "2zQPnd1gCgpM"
      }
    },
    {
      "cell_type": "code",
      "source": [
        "corpus = '''Bhagat Singh was a young revolutionary freedom fighter who had sacrificed his life for making India a free nation.\n",
        "This young freedom fighter was born on 28th September in the year 1907 in the Punjab region that lies in Pakistan at present.\n",
        "Bhagat Singh was initially impressed by the Gandhian principles and thus supported the Swadeshi movement.\n",
        "Later, he thought of dropping the idea of non-violence because his mind totally changed after the Chauri-Chaura incident during the Non-cooperation movement.\n",
        "He thought that revolt is necessary and only the way to drive out the Britishers from the nation.\n",
        "This is the point where the ideology of Mahatma Gandhi and Bhagat Singh changed.\n",
        "He had been imprisoned several times but never slowed down his struggle for independence.\n",
        "The movies made on Bhagat Singh reveal the life events of this great hero of the nation.\n",
        "'''"
      ],
      "metadata": {
        "id": "qsHq5zejCEXk"
      },
      "execution_count": 2,
      "outputs": []
    },
    {
      "cell_type": "markdown",
      "source": [
        "**Text preprocessing**"
      ],
      "metadata": {
        "id": "Ys8qIRh_DrRk"
      }
    },
    {
      "cell_type": "code",
      "source": [
        "sent_token = sent_tokenize(corpus)\n",
        "sent_token"
      ],
      "metadata": {
        "colab": {
          "base_uri": "https://localhost:8080/"
        },
        "id": "X5RuQ2BbCER9",
        "outputId": "86de531f-c22e-4cf4-c83f-41e94194ec70"
      },
      "execution_count": 3,
      "outputs": [
        {
          "output_type": "execute_result",
          "data": {
            "text/plain": [
              "['Bhagat Singh was a young revolutionary freedom fighter who had sacrificed his life for making India a free nation.',\n",
              " 'This young freedom fighter was born on 28th September in the year 1907 in the Punjab region that lies in Pakistan at present.',\n",
              " 'Bhagat Singh was initially impressed by the Gandhian principles and thus supported the Swadeshi movement.',\n",
              " 'Later, he thought of dropping the idea of non-violence because his mind totally changed after the Chauri-Chaura incident during the Non-cooperation movement.',\n",
              " 'He thought that revolt is necessary and only the way to drive out the Britishers from the nation.',\n",
              " 'This is the point where the ideology of Mahatma Gandhi and Bhagat Singh changed.',\n",
              " 'He had been imprisoned several times but never slowed down his struggle for independence.',\n",
              " 'The movies made on Bhagat Singh reveal the life events of this great hero of the nation.']"
            ]
          },
          "metadata": {},
          "execution_count": 3
        }
      ]
    },
    {
      "cell_type": "code",
      "source": [
        "token = [sent.translate(str.maketrans(\"\",\"\",string.punctuation)) for sent in sent_token ]\n",
        "token"
      ],
      "metadata": {
        "colab": {
          "base_uri": "https://localhost:8080/"
        },
        "id": "pAeibMEFCEPi",
        "outputId": "c86f7987-e12d-48fd-cd38-b6424b83438e"
      },
      "execution_count": 4,
      "outputs": [
        {
          "output_type": "execute_result",
          "data": {
            "text/plain": [
              "['Bhagat Singh was a young revolutionary freedom fighter who had sacrificed his life for making India a free nation',\n",
              " 'This young freedom fighter was born on 28th September in the year 1907 in the Punjab region that lies in Pakistan at present',\n",
              " 'Bhagat Singh was initially impressed by the Gandhian principles and thus supported the Swadeshi movement',\n",
              " 'Later he thought of dropping the idea of nonviolence because his mind totally changed after the ChauriChaura incident during the Noncooperation movement',\n",
              " 'He thought that revolt is necessary and only the way to drive out the Britishers from the nation',\n",
              " 'This is the point where the ideology of Mahatma Gandhi and Bhagat Singh changed',\n",
              " 'He had been imprisoned several times but never slowed down his struggle for independence',\n",
              " 'The movies made on Bhagat Singh reveal the life events of this great hero of the nation']"
            ]
          },
          "metadata": {},
          "execution_count": 4
        }
      ]
    },
    {
      "cell_type": "code",
      "source": [
        "processed_token = []\n",
        "lemmatizer = WordNetLemmatizer()\n",
        "for sent in token:\n",
        "  raw_sent = re.sub('[^a-zA-Z]',\" \",sent)\n",
        "  raw_sent = raw_sent.lower()\n",
        "  raw_sent = raw_sent.split()\n",
        "  lemm_sent_list = [lemmatizer.lemmatize(i,pos=\"v\") for i in raw_sent if i not in set(stopwords.words(\"english\"))]\n",
        "  lemm_sent = \" \".join(lemm_sent_list)\n",
        "  processed_token.append(lemm_sent)"
      ],
      "metadata": {
        "id": "X2l5s0DnCEKL"
      },
      "execution_count": 11,
      "outputs": []
    },
    {
      "cell_type": "code",
      "source": [
        "processed_token"
      ],
      "metadata": {
        "colab": {
          "base_uri": "https://localhost:8080/"
        },
        "id": "_YJ_sBYqDASY",
        "outputId": "fce3ef00-fc0b-450d-9686-1b70f48e9496"
      },
      "execution_count": 12,
      "outputs": [
        {
          "output_type": "execute_result",
          "data": {
            "text/plain": [
              "['bhagat singh young revolutionary freedom fighter sacrifice life make india free nation',\n",
              " 'young freedom fighter bear th september year punjab region lie pakistan present',\n",
              " 'bhagat singh initially impress gandhian principles thus support swadeshi movement',\n",
              " 'later think drop idea nonviolence mind totally change chaurichaura incident noncooperation movement',\n",
              " 'think revolt necessary way drive britishers nation',\n",
              " 'point ideology mahatma gandhi bhagat singh change',\n",
              " 'imprison several time never slow struggle independence',\n",
              " 'movies make bhagat singh reveal life events great hero nation']"
            ]
          },
          "metadata": {},
          "execution_count": 12
        }
      ]
    },
    {
      "cell_type": "markdown",
      "source": [
        "**Bag Of Words** for the above sample corpus"
      ],
      "metadata": {
        "id": "x_8KFtsgD5vA"
      }
    },
    {
      "cell_type": "code",
      "source": [
        "vectorizer = CountVectorizer()\n",
        "x_vect = vectorizer.fit_transform(processed_token)"
      ],
      "metadata": {
        "id": "iM-Leae3D-Ap"
      },
      "execution_count": 13,
      "outputs": []
    },
    {
      "cell_type": "code",
      "source": [
        "x_vect.toarray()"
      ],
      "metadata": {
        "colab": {
          "base_uri": "https://localhost:8080/"
        },
        "id": "w33A4QkLEaKp",
        "outputId": "0d38b50c-a185-4afe-b8a4-d93cac36d8ea"
      },
      "execution_count": 15,
      "outputs": [
        {
          "output_type": "execute_result",
          "data": {
            "text/plain": [
              "array([[0, 1, 0, 0, 0, 0, 0, 0, 1, 1, 1, 0, 0, 0, 0, 0, 0, 0, 0, 0, 0, 1,\n",
              "        0, 0, 0, 1, 0, 1, 0, 0, 0, 1, 0, 0, 0, 0, 0, 0, 0, 0, 0, 0, 0, 0,\n",
              "        1, 1, 0, 0, 1, 0, 0, 0, 0, 0, 0, 0, 0, 0, 0, 0, 1],\n",
              "       [1, 0, 0, 0, 0, 0, 0, 0, 1, 0, 1, 0, 0, 0, 0, 0, 0, 0, 0, 0, 0, 0,\n",
              "        0, 0, 1, 0, 0, 0, 0, 0, 0, 0, 0, 0, 0, 0, 1, 0, 1, 0, 1, 1, 0, 0,\n",
              "        0, 0, 1, 0, 0, 0, 0, 0, 0, 1, 0, 0, 0, 0, 0, 1, 1],\n",
              "       [0, 1, 0, 0, 0, 0, 0, 0, 0, 0, 0, 0, 1, 0, 0, 0, 0, 1, 0, 0, 0, 0,\n",
              "        1, 0, 0, 0, 0, 0, 0, 1, 0, 0, 0, 0, 0, 0, 0, 0, 0, 1, 0, 0, 0, 0,\n",
              "        0, 0, 0, 0, 1, 0, 0, 1, 1, 0, 0, 1, 0, 0, 0, 0, 0],\n",
              "       [0, 0, 0, 1, 1, 0, 1, 0, 0, 0, 0, 0, 0, 0, 0, 1, 0, 0, 0, 1, 0, 0,\n",
              "        0, 1, 0, 0, 0, 0, 1, 1, 0, 0, 0, 0, 1, 1, 0, 0, 0, 0, 0, 0, 0, 0,\n",
              "        0, 0, 0, 0, 0, 0, 0, 0, 0, 0, 1, 0, 0, 1, 0, 0, 0],\n",
              "       [0, 0, 1, 0, 0, 1, 0, 0, 0, 0, 0, 0, 0, 0, 0, 0, 0, 0, 0, 0, 0, 0,\n",
              "        0, 0, 0, 0, 0, 0, 0, 0, 0, 1, 1, 0, 0, 0, 0, 0, 0, 0, 0, 0, 0, 1,\n",
              "        0, 0, 0, 0, 0, 0, 0, 0, 0, 0, 1, 0, 0, 0, 1, 0, 0],\n",
              "       [0, 1, 0, 1, 0, 0, 0, 0, 0, 0, 0, 1, 0, 0, 0, 0, 1, 0, 0, 0, 0, 0,\n",
              "        0, 0, 0, 0, 1, 0, 0, 0, 0, 0, 0, 0, 0, 0, 0, 1, 0, 0, 0, 0, 0, 0,\n",
              "        0, 0, 0, 0, 1, 0, 0, 0, 0, 0, 0, 0, 0, 0, 0, 0, 0],\n",
              "       [0, 0, 0, 0, 0, 0, 0, 0, 0, 0, 0, 0, 0, 0, 0, 0, 0, 0, 1, 0, 1, 0,\n",
              "        0, 0, 0, 0, 0, 0, 0, 0, 0, 0, 0, 1, 0, 0, 0, 0, 0, 0, 0, 0, 0, 0,\n",
              "        0, 0, 0, 1, 0, 1, 1, 0, 0, 0, 0, 0, 1, 0, 0, 0, 0],\n",
              "       [0, 1, 0, 0, 0, 0, 0, 1, 0, 0, 0, 0, 0, 1, 1, 0, 0, 0, 0, 0, 0, 0,\n",
              "        0, 0, 0, 1, 0, 1, 0, 0, 1, 1, 0, 0, 0, 0, 0, 0, 0, 0, 0, 0, 1, 0,\n",
              "        0, 0, 0, 0, 1, 0, 0, 0, 0, 0, 0, 0, 0, 0, 0, 0, 0]])"
            ]
          },
          "metadata": {},
          "execution_count": 15
        }
      ]
    }
  ]
}