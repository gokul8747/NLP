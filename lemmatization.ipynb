{
  "cells": [
    {
      "cell_type": "markdown",
      "metadata": {
        "id": "view-in-github",
        "colab_type": "text"
      },
      "source": [
        "<a href=\"https://colab.research.google.com/github/gokul8747/NLP/blob/main/lemmatization.ipynb\" target=\"_parent\"><img src=\"https://colab.research.google.com/assets/colab-badge.svg\" alt=\"Open In Colab\"/></a>"
      ]
    },
    {
      "cell_type": "markdown",
      "metadata": {
        "id": "FFND-GrR_dev"
      },
      "source": [
        "### Lemmatization"
      ]
    },
    {
      "cell_type": "code",
      "execution_count": 8,
      "metadata": {
        "colab": {
          "base_uri": "https://localhost:8080/"
        },
        "id": "c3xMnhwB_de4",
        "outputId": "b574b223-d014-4a32-b2a1-37c7cffdc4bf"
      },
      "outputs": [
        {
          "output_type": "stream",
          "name": "stderr",
          "text": [
            "[nltk_data] Downloading package punkt to /root/nltk_data...\n",
            "[nltk_data]   Package punkt is already up-to-date!\n",
            "[nltk_data] Downloading package wordnet to /root/nltk_data...\n",
            "[nltk_data] Downloading package omw-1.4 to /root/nltk_data...\n"
          ]
        },
        {
          "output_type": "execute_result",
          "data": {
            "text/plain": [
              "True"
            ]
          },
          "metadata": {},
          "execution_count": 8
        }
      ],
      "source": [
        "from nltk.tokenize import word_tokenize\n",
        "from nltk.stem import WordNetLemmatizer\n",
        "import string\n",
        "import nltk\n",
        "nltk.download('punkt')\n",
        "nltk.download('wordnet')\n",
        "nltk.download('omw-1.4')"
      ]
    },
    {
      "cell_type": "code",
      "execution_count": 9,
      "metadata": {
        "id": "aKDh2lJG_de7"
      },
      "outputs": [],
      "source": [
        "corpus = \"\"\"The primary thing when you take a sword in your hands is your intention to cut the enemy,whatever the means. Whenever you parry, hit, spring, strike or touch the enemy's cutting sword,you must cut the enemy in the same movement. It is essential to attain this. If you think only of hitting, springing, striking or touching the enemy, you will not be able actually to cut him.\"\"\""
      ]
    },
    {
      "cell_type": "markdown",
      "metadata": {
        "id": "OUgIvtSw_de9"
      },
      "source": [
        "Removing Punctuation"
      ]
    },
    {
      "cell_type": "code",
      "execution_count": 10,
      "metadata": {
        "id": "rWel1AGf_de-"
      },
      "outputs": [],
      "source": [
        "p_corpus = corpus.translate(str.maketrans(\"\",\"\",string.punctuation))"
      ]
    },
    {
      "cell_type": "code",
      "execution_count": 11,
      "metadata": {
        "colab": {
          "base_uri": "https://localhost:8080/"
        },
        "id": "lny6p6aU_de_",
        "outputId": "a41c0b8a-1cc1-43b0-8c9e-d6914e56e74b"
      },
      "outputs": [
        {
          "output_type": "stream",
          "name": "stdout",
          "text": [
            "The primary thing when you take a sword in your hands is your intention to cut the enemywhatever the means Whenever you parry hit spring strike or touch the enemys cutting swordyou must cut the enemy in the same movement It is essential to attain this If you think only of hitting springing striking or touching the enemy you will not be able actually to cut him\n"
          ]
        }
      ],
      "source": [
        "print(p_corpus)"
      ]
    },
    {
      "cell_type": "markdown",
      "metadata": {
        "id": "TjPI5RI8_dfB"
      },
      "source": [
        "Word Tokenization"
      ]
    },
    {
      "cell_type": "code",
      "execution_count": 12,
      "metadata": {
        "colab": {
          "base_uri": "https://localhost:8080/"
        },
        "id": "KoOzYQIN_dfD",
        "outputId": "fc6a6199-3fdf-443a-93e7-17648859663b"
      },
      "outputs": [
        {
          "output_type": "stream",
          "name": "stdout",
          "text": [
            "['The', 'primary', 'thing', 'when', 'you', 'take', 'a', 'sword', 'in', 'your', 'hands', 'is', 'your', 'intention', 'to', 'cut', 'the', 'enemywhatever', 'the', 'means', 'Whenever', 'you', 'parry', 'hit', 'spring', 'strike', 'or', 'touch', 'the', 'enemys', 'cutting', 'swordyou', 'must', 'cut', 'the', 'enemy', 'in', 'the', 'same', 'movement', 'It', 'is', 'essential', 'to', 'attain', 'this', 'If', 'you', 'think', 'only', 'of', 'hitting', 'springing', 'striking', 'or', 'touching', 'the', 'enemy', 'you', 'will', 'not', 'be', 'able', 'actually', 'to', 'cut', 'him']\n"
          ]
        }
      ],
      "source": [
        "word_token = word_tokenize(p_corpus)\n",
        "print(word_token)"
      ]
    },
    {
      "cell_type": "markdown",
      "metadata": {
        "id": "qbP1J84v_dfF"
      },
      "source": [
        "Lemmatization"
      ]
    },
    {
      "cell_type": "code",
      "execution_count": 29,
      "metadata": {
        "id": "kTZGTInc_dfI"
      },
      "outputs": [],
      "source": [
        "lemmatizer = WordNetLemmatizer()\n",
        "lemmatized = [lemmatizer.lemmatize(word,pos=\"v\") for word in word_token]"
      ]
    },
    {
      "cell_type": "code",
      "source": [
        "lemmatized"
      ],
      "metadata": {
        "colab": {
          "base_uri": "https://localhost:8080/"
        },
        "id": "peEU_pIbAFzo",
        "outputId": "64e49917-beb5-4014-d1bd-91d170d553fd"
      },
      "execution_count": 30,
      "outputs": [
        {
          "output_type": "execute_result",
          "data": {
            "text/plain": [
              "['The',\n",
              " 'primary',\n",
              " 'thing',\n",
              " 'when',\n",
              " 'you',\n",
              " 'take',\n",
              " 'a',\n",
              " 'sword',\n",
              " 'in',\n",
              " 'your',\n",
              " 'hand',\n",
              " 'be',\n",
              " 'your',\n",
              " 'intention',\n",
              " 'to',\n",
              " 'cut',\n",
              " 'the',\n",
              " 'enemywhatever',\n",
              " 'the',\n",
              " 'mean',\n",
              " 'Whenever',\n",
              " 'you',\n",
              " 'parry',\n",
              " 'hit',\n",
              " 'spring',\n",
              " 'strike',\n",
              " 'or',\n",
              " 'touch',\n",
              " 'the',\n",
              " 'enemys',\n",
              " 'cut',\n",
              " 'swordyou',\n",
              " 'must',\n",
              " 'cut',\n",
              " 'the',\n",
              " 'enemy',\n",
              " 'in',\n",
              " 'the',\n",
              " 'same',\n",
              " 'movement',\n",
              " 'It',\n",
              " 'be',\n",
              " 'essential',\n",
              " 'to',\n",
              " 'attain',\n",
              " 'this',\n",
              " 'If',\n",
              " 'you',\n",
              " 'think',\n",
              " 'only',\n",
              " 'of',\n",
              " 'hit',\n",
              " 'spring',\n",
              " 'strike',\n",
              " 'or',\n",
              " 'touch',\n",
              " 'the',\n",
              " 'enemy',\n",
              " 'you',\n",
              " 'will',\n",
              " 'not',\n",
              " 'be',\n",
              " 'able',\n",
              " 'actually',\n",
              " 'to',\n",
              " 'cut',\n",
              " 'him']"
            ]
          },
          "metadata": {},
          "execution_count": 30
        }
      ]
    },
    {
      "cell_type": "code",
      "source": [
        "example_words = [\"program\",\"programming\",\"programer\",\"programs\",\"programmed\"]\n",
        "d = [lemmatizer.lemmatize(i,pos=\"v\")  for i in example_words]"
      ],
      "metadata": {
        "id": "mORiYCnxAH6N"
      },
      "execution_count": 26,
      "outputs": []
    },
    {
      "cell_type": "code",
      "source": [
        "print(\"{0:20}{1:20}\".format(\"--Word--\",\"--Lemma--\"))\n",
        "for i in range(len(example_words)):\n",
        "   print (\"{0:20}{1:20}\".format(example_words[i], d[i]))"
      ],
      "metadata": {
        "colab": {
          "base_uri": "https://localhost:8080/"
        },
        "id": "ATbh-pa-B_Ko",
        "outputId": "03b43f5f-8815-47dc-cc29-a9a6a14193b1"
      },
      "execution_count": 31,
      "outputs": [
        {
          "output_type": "stream",
          "name": "stdout",
          "text": [
            "--Word--            --Lemma--           \n",
            "program             program             \n",
            "programming         program             \n",
            "programer           programer           \n",
            "programs            program             \n",
            "programmed          program             \n"
          ]
        }
      ]
    }
  ],
  "metadata": {
    "kernelspec": {
      "display_name": "Python 3",
      "name": "python3"
    },
    "language_info": {
      "codemirror_mode": {
        "name": "ipython",
        "version": 3
      },
      "file_extension": ".py",
      "mimetype": "text/x-python",
      "name": "python",
      "nbconvert_exporter": "python",
      "pygments_lexer": "ipython3",
      "version": "3.9.13"
    },
    "orig_nbformat": 4,
    "vscode": {
      "interpreter": {
        "hash": "d303b0bb6c736ca253ba91959a25d5584d355e4a81ded23c201ada857346ece7"
      }
    },
    "colab": {
      "provenance": [],
      "toc_visible": true,
      "include_colab_link": true
    },
    "accelerator": "TPU"
  },
  "nbformat": 4,
  "nbformat_minor": 0
}